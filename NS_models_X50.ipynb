{
  "nbformat": 4,
  "nbformat_minor": 0,
  "metadata": {
    "colab": {
      "provenance": []
    },
    "kernelspec": {
      "display_name": "Python 3",
      "name": "python3"
    },
    "language_info": {
      "name": "python"
    }
  },
  "cells": [
    {
      "cell_type": "code",
      "metadata": {
        "id": "aBW79Jfih1J7"
      },
      "source": [
        "  # importing the packages\n",
        "import pandas as pd\n",
        "import numpy as np\n",
        "import matplotlib.pyplot as plt\n",
        "import seaborn as sns\n",
        "from sklearn.model_selection import train_test_split\n",
        "from sklearn.preprocessing import OneHotEncoder\n",
        "from sklearn.preprocessing import LabelEncoder\n",
        "from sklearn import preprocessing"
      ],
      "execution_count": null,
      "outputs": []
    },
    {
      "cell_type": "code",
      "metadata": {
        "id": "hXXYCrn6h6f_"
      },
      "source": [
        "from google.colab import drive\n",
        "drive.mount('/content/drive')"
      ],
      "execution_count": null,
      "outputs": []
    },
    {
      "cell_type": "code",
      "metadata": {
        "id": "KLACwAvciNPb"
      },
      "source": [
        "import warnings\n",
        "warnings.filterwarnings('always')\n",
        "warnings.filterwarnings('ignore')# data visualisation and manipulationimport numpy as np\n",
        "import matplotlib.pyplot as plt\n",
        "from matplotlib import style\n",
        "import seaborn as sns\n",
        "import missingno as msno#configure\n",
        "# sets matplotlib to inline and displays graphs below the corressponding cell.\n",
        "%matplotlib inline\n",
        "style.use('fivethirtyeight')\n",
        "sns.set(style='whitegrid',color_codes=True)#import the necessary modelling algos.\n",
        "from sklearn.ensemble import RandomForestClassifier\n",
        "from sklearn.tree import DecisionTreeClassifier\n",
        "\n",
        "#model selection\n",
        "from sklearn.model_selection import KFold\n",
        "from sklearn.metrics import accuracy_score,precision_score\n",
        "from sklearn.model_selection import GridSearchCV#preprocess.\n",
        "from sklearn.preprocessing import MinMaxScaler,StandardScaler"
      ],
      "execution_count": null,
      "outputs": []
    },
    {
      "cell_type": "code",
      "metadata": {
        "id": "WCECkftPiNK_"
      },
      "source": [
        "urlx='drive/MyDrive/NS/Lab/MachineLearningCSV/CSVs/X50_prepro.csv'\n",
        "urly='drive/MyDrive/NS/Lab/MachineLearningCSV/CSVs/y_prepro.csv'\n",
        "x = pd.read_csv(urlx)\n",
        "y =pd.read_csv(urly)"
      ],
      "execution_count": null,
      "outputs": []
    },
    {
      "cell_type": "code",
      "metadata": {
        "colab": {
          "base_uri": "https://localhost:8080/"
        },
        "id": "SWrvLN6TiNIf",
        "outputId": "6e7c7b85-9e62-4771-8ca1-682f83dcb25b"
      },
      "source": [
        "x.shape"
      ],
      "execution_count": null,
      "outputs": [
        {
          "output_type": "execute_result",
          "data": {
            "text/plain": [
              "(999028, 50)"
            ]
          },
          "metadata": {},
          "execution_count": 12
        }
      ]
    },
    {
      "cell_type": "code",
      "metadata": {
        "colab": {
          "base_uri": "https://localhost:8080/"
        },
        "id": "YXizow6O0uph",
        "outputId": "03181e8d-64d4-43bd-eac7-d3ff7428b046"
      },
      "source": [
        "y.shape"
      ],
      "execution_count": null,
      "outputs": [
        {
          "output_type": "execute_result",
          "data": {
            "text/plain": [
              "(999028, 2)"
            ]
          },
          "metadata": {},
          "execution_count": 13
        }
      ]
    },
    {
      "cell_type": "code",
      "metadata": {
        "id": "kGaWJL3eiNF1"
      },
      "source": [
        "x1=x.drop(['Unnamed: 0'],axis=1)"
      ],
      "execution_count": null,
      "outputs": []
    },
    {
      "cell_type": "code",
      "metadata": {
        "id": "bxdktcd9iNAA"
      },
      "source": [
        "y1=y.drop(['Unnamed: 0'],axis=1)"
      ],
      "execution_count": null,
      "outputs": []
    },
    {
      "cell_type": "code",
      "metadata": {
        "colab": {
          "base_uri": "https://localhost:8080/"
        },
        "id": "Agxyj5_Qw8am",
        "outputId": "e35578b2-ae9b-483b-bb9b-cc8fd2f86340"
      },
      "source": [
        "x1.shape"
      ],
      "execution_count": null,
      "outputs": [
        {
          "output_type": "execute_result",
          "data": {
            "text/plain": [
              "(999028, 49)"
            ]
          },
          "metadata": {},
          "execution_count": 16
        }
      ]
    },
    {
      "cell_type": "code",
      "metadata": {
        "colab": {
          "base_uri": "https://localhost:8080/"
        },
        "id": "4wJe9zVew-fK",
        "outputId": "8cf80a91-fdce-4b38-a6a1-e526ab1ec4d1"
      },
      "source": [
        "y1.shape"
      ],
      "execution_count": null,
      "outputs": [
        {
          "output_type": "execute_result",
          "data": {
            "text/plain": [
              "(999028, 1)"
            ]
          },
          "metadata": {},
          "execution_count": 17
        }
      ]
    },
    {
      "cell_type": "code",
      "metadata": {
        "id": "rb8lMmP9trJR"
      },
      "source": [
        "# let's us split the data and target into training and testing\n",
        "# import train_test_split library from sklearn's model_selection\n",
        "from sklearn.model_selection import train_test_split\n",
        "x_train, x_test, y_train, y_test = train_test_split(x1, y1, test_size=0.33, random_state=42)"
      ],
      "execution_count": null,
      "outputs": []
    },
    {
      "cell_type": "markdown",
      "metadata": {
        "id": "d0YTR_Z_pgQR"
      },
      "source": [
        "#### running models"
      ]
    },
    {
      "cell_type": "markdown",
      "metadata": {
        "id": "dWuaEfWPpjW3"
      },
      "source": [
        "##### KNN"
      ]
    },
    {
      "cell_type": "code",
      "metadata": {
        "colab": {
          "base_uri": "https://localhost:8080/"
        },
        "id": "X63NmNHXiM9M",
        "outputId": "1e6415b5-f179-4b8b-f43e-fdbfd313faa2"
      },
      "source": [
        "#importing libraries for logistic regression\n",
        "from sklearn.neighbors import KNeighborsClassifier\n",
        "mlKN1= KNeighborsClassifier(n_neighbors=4, weights='distance',algorithm='ball_tree',p=2)\n",
        "import time\n",
        "stime = time.time()\n",
        "mlKN1.fit(x_train,y_train)\n",
        "print(\"--- %s seconds needed to train ---\" % (time.time() - stime))\n",
        "\n"
      ],
      "execution_count": null,
      "outputs": [
        {
          "output_type": "stream",
          "name": "stdout",
          "text": [
            "--- 93.50526022911072 seconds needed to train ---\n"
          ]
        }
      ]
    },
    {
      "cell_type": "code",
      "metadata": {
        "id": "0LcP6db7hX8l"
      },
      "source": [
        "y_pred=mlKN1.predict(x_test)\n",
        "y_pred=pd.DataFrame(y_pred.reshape(-1,1))\n",
        "y_pred.head(4)"
      ],
      "execution_count": null,
      "outputs": []
    },
    {
      "cell_type": "code",
      "metadata": {
        "id": "hgeWpBCaK_7y"
      },
      "source": [
        "y_pred_KN1_n=pd.DataFrame(y_pred_KN1.reshape(-1,1))\n",
        "# let us check accuracy\n",
        "# import metrics library\n",
        "from sklearn import metrics\n",
        "print(\"accuracy is: \", metrics.accuracy_score(y_test,y_pred_KN1_n))\n"
      ],
      "execution_count": null,
      "outputs": []
    },
    {
      "cell_type": "code",
      "metadata": {
        "id": "RKsY8qxwiM3K"
      },
      "source": [
        "# import confusion matrix\n",
        "from sklearn.metrics import confusion_matrix\n",
        "print(confusion_matrix(y_test,y_pred_KN1_n))\n",
        "from sklearn.metrics import f1_score\n",
        "from sklearn.metrics import precision_score\n",
        "from sklearn.metrics import recall_score\n",
        "print(\"f1 score: \", f1_score(y_test,y_pred_KN1_n,average='weighted'))\n",
        "print(\"precision score: \", precision_score(y_test, y_pred_KN1_n, average='weighted'))\n",
        "print(\"recall score: \", recall_score(y_test, y_pred_KN1_n, average='weighted'))"
      ],
      "execution_count": null,
      "outputs": []
    },
    {
      "cell_type": "code",
      "metadata": {
        "id": "e-MrTFt9iM0R"
      },
      "source": [],
      "execution_count": null,
      "outputs": []
    },
    {
      "cell_type": "markdown",
      "metadata": {
        "id": "nm9naUfIU1bu"
      },
      "source": [
        "#### random forest"
      ]
    },
    {
      "cell_type": "code",
      "metadata": {
        "id": "227fGEqdiMxd",
        "colab": {
          "base_uri": "https://localhost:8080/"
        },
        "outputId": "f8317100-3739-46ec-ac43-19ac433e4171"
      },
      "source": [
        "# let us create and run different models on the dataset\n",
        "# let us use randomforest\n",
        "# import libraries\n",
        "from sklearn.ensemble import RandomForestClassifier\n",
        "ml=RandomForestClassifier(n_estimators=100)\n",
        "import time\n",
        "stime = time.time()\n",
        "ml.fit(x_train,y_train)\n",
        "print(\"--- %s seconds needed to train ---\" % (time.time() - stime))"
      ],
      "execution_count": null,
      "outputs": [
        {
          "output_type": "stream",
          "name": "stdout",
          "text": [
            "--- 339.4141070842743 seconds needed to train ---\n"
          ]
        }
      ]
    },
    {
      "cell_type": "code",
      "metadata": {
        "id": "JiuAXVjTiMut",
        "colab": {
          "base_uri": "https://localhost:8080/",
          "height": 175
        },
        "outputId": "dec7dc3e-b3f7-4fd1-a989-af6403f4aaef"
      },
      "source": [
        "y_pred=ml.predict(x_test)\n",
        "y_pred=pd.DataFrame(y_pred.reshape(-1,1))\n",
        "y_pred.head(4)"
      ],
      "execution_count": null,
      "outputs": [
        {
          "output_type": "execute_result",
          "data": {
            "text/html": [
              "<div>\n",
              "<style scoped>\n",
              "    .dataframe tbody tr th:only-of-type {\n",
              "        vertical-align: middle;\n",
              "    }\n",
              "\n",
              "    .dataframe tbody tr th {\n",
              "        vertical-align: top;\n",
              "    }\n",
              "\n",
              "    .dataframe thead th {\n",
              "        text-align: right;\n",
              "    }\n",
              "</style>\n",
              "<table border=\"1\" class=\"dataframe\">\n",
              "  <thead>\n",
              "    <tr style=\"text-align: right;\">\n",
              "      <th></th>\n",
              "      <th>0</th>\n",
              "    </tr>\n",
              "  </thead>\n",
              "  <tbody>\n",
              "    <tr>\n",
              "      <th>0</th>\n",
              "      <td>0</td>\n",
              "    </tr>\n",
              "    <tr>\n",
              "      <th>1</th>\n",
              "      <td>10</td>\n",
              "    </tr>\n",
              "    <tr>\n",
              "      <th>2</th>\n",
              "      <td>0</td>\n",
              "    </tr>\n",
              "    <tr>\n",
              "      <th>3</th>\n",
              "      <td>0</td>\n",
              "    </tr>\n",
              "  </tbody>\n",
              "</table>\n",
              "</div>"
            ],
            "text/plain": [
              "    0\n",
              "0   0\n",
              "1  10\n",
              "2   0\n",
              "3   0"
            ]
          },
          "metadata": {},
          "execution_count": 11
        }
      ]
    },
    {
      "cell_type": "code",
      "metadata": {
        "id": "uWrTFHz5iMr4",
        "colab": {
          "base_uri": "https://localhost:8080/"
        },
        "outputId": "d2da0126-6d6a-465b-b1da-5566836cf724"
      },
      "source": [
        "# let us check accuracy\n",
        "# import metrics library\n",
        "from sklearn import metrics\n",
        "print(\"accuracy is: \", metrics.accuracy_score(y_test,y_pred))\n",
        "# import confusion matrix\n",
        "from sklearn.metrics import confusion_matrix\n",
        "print(confusion_matrix(y_test,y_pred))\n",
        "from sklearn.metrics import f1_score\n",
        "from sklearn.metrics import precision_score\n",
        "from sklearn.metrics import recall_score\n",
        "print(\"f1 score: \", f1_score(y_test,y_pred,average='weighted'))\n",
        "print(\"precision score: \", precision_score(y_test, y_pred, average='weighted'))\n",
        "print(\"recall score: \", recall_score(y_test, y_pred, average='weighted'))"
      ],
      "execution_count": null,
      "outputs": [
        {
          "output_type": "stream",
          "name": "stdout",
          "text": [
            "accuracy is:  0.997573294101588\n",
            "[[264662     23      4      2     36     35      1      9      0      0\n",
            "     119      0      0      0      0]\n",
            " [   118    125      0      0      0      0      0      0      0      0\n",
            "       0      0      0      0      0]\n",
            " [    19      0  14966      0      2      0      0      0      0      0\n",
            "       0      0      0      0      0]\n",
            " [    26      0      0   1207      1      0      0      0      0      0\n",
            "       0      0      0      0      0]\n",
            " [   234      0      5      0  26513      0      0      0      0      0\n",
            "       2      0      0      0      0]\n",
            " [    10      0      0      0      0    678      2      0      0      0\n",
            "       0      0      0      0      0]\n",
            " [     1      0      0      0      0      0    666      0      0      0\n",
            "       0      0      0      0      0]\n",
            " [     2      0      0      0      0      0      0    897      0      0\n",
            "       0      0      0      0      0]\n",
            " [     1      0      0      0      0      0      0      0      2      0\n",
            "       0      0      0      0      0]\n",
            " [     1      0      0      0      0      0      0      0      0      2\n",
            "       0      0      0      0      0]\n",
            " [     9      0      0      0      6      0      0      0      0      0\n",
            "   18344      0      0      0      0]\n",
            " [    19      0      0      0      0      0      0      0      0      0\n",
            "       0    649      0      0      0]\n",
            " [    23      0      0      0      0      0      0      0      0      0\n",
            "       0      0    119      0     40]\n",
            " [     1      0      0      0      0      0      0      0      0      0\n",
            "       0      0      0      0      0]\n",
            " [     5      0      0      0      0      0      0      0      0      0\n",
            "       0      0     44      0     35]]\n",
            "f1 score:  0.9975024699678193\n",
            "precision score:  0.9975012624144604\n",
            "recall score:  0.997573294101588\n"
          ]
        }
      ]
    },
    {
      "cell_type": "markdown",
      "metadata": {
        "id": "ZN_LXhDqWTFM"
      },
      "source": [
        "#### SVM"
      ]
    },
    {
      "cell_type": "code",
      "metadata": {
        "id": "rh-bC0CKjpdO"
      },
      "source": [
        "# let us create and run different models on the dataset\n",
        "# let us use randomforest\n",
        "# import libraries\n",
        "from sklearn.svm import SVC\n",
        "ml1=SVC()\n",
        "import time\n",
        "stime = time.time()\n",
        "ml1.fit(x_train,y_train)\n",
        "print(\"--- %s seconds needed to train ---\" % (time.time() - stime))"
      ],
      "execution_count": null,
      "outputs": []
    },
    {
      "cell_type": "code",
      "metadata": {
        "id": "BMgDoJIyiMmA"
      },
      "source": [
        "y_predS=ml1.predict(x_test)\n",
        "y_predS=pd.DataFrame(y_predS.reshape(-1,1))\n",
        "y_predS.head(4)"
      ],
      "execution_count": null,
      "outputs": []
    },
    {
      "cell_type": "code",
      "metadata": {
        "id": "EB8ZlVIViMi7"
      },
      "source": [
        "# let us check accuracy\n",
        "# import metrics library\n",
        "from sklearn import metrics\n",
        "print(\"accuracy is: \", metrics.accuracy_score(y_test,y_predS))\n",
        "# import confusion matrix\n",
        "from sklearn.metrics import confusion_matrix\n",
        "print(confusion_matrix(y_test,y_predS))\n",
        "from sklearn.metrics import f1_score\n",
        "from sklearn.metrics import precision_score\n",
        "from sklearn.metrics import recall_score\n",
        "print(\"f1 score: \", f1_score(y_test,y_predS,average='weighted'))\n",
        "print(\"precision score: \", precision_score(y_test, y_predS, average='weighted'))\n",
        "print(\"recall score: \", recall_score(y_test, y_predS, average='weighted'))"
      ],
      "execution_count": null,
      "outputs": []
    },
    {
      "cell_type": "code",
      "metadata": {
        "id": "k8R7z0TziMft"
      },
      "source": [],
      "execution_count": null,
      "outputs": []
    },
    {
      "cell_type": "markdown",
      "metadata": {
        "id": "XqnNxDTLwjtj"
      },
      "source": [
        "#### Adaboost"
      ]
    },
    {
      "cell_type": "code",
      "metadata": {
        "colab": {
          "base_uri": "https://localhost:8080/"
        },
        "id": "03HCwGVzwll_",
        "outputId": "a9b85474-6622-4497-d7b5-b332d2f43bd5"
      },
      "source": [
        "# let us create and run different models on the dataset\n",
        "# let us use randomforest\n",
        "# import libraries\n",
        "from sklearn.ensemble import AdaBoostClassifier\n",
        "clf=AdaBoostClassifier(random_state=96)\n",
        "import time\n",
        "stime = time.time()\n",
        "clf.fit(x_train,y_train)\n",
        "print(\"--- %s seconds needed to train ---\" % (time.time() - stime))\n",
        "print(\"training score: \",clf.score(x_train, y_train))\n"
      ],
      "execution_count": null,
      "outputs": [
        {
          "output_type": "stream",
          "name": "stdout",
          "text": [
            "--- 192.22718143463135 seconds needed to train ---\n",
            "training score:  0.8566662533112014\n"
          ]
        }
      ]
    },
    {
      "cell_type": "code",
      "metadata": {
        "colab": {
          "base_uri": "https://localhost:8080/",
          "height": 175
        },
        "id": "5lt_QpiKzI0B",
        "outputId": "4bdcc5ec-dc08-4716-8309-dc5429c375ef"
      },
      "source": [
        "y_pred1=clf.predict(x_test)\n",
        "y_pred1=pd.DataFrame(y_pred1.reshape(-1,1))\n",
        "y_pred1.head(4)"
      ],
      "execution_count": null,
      "outputs": [
        {
          "output_type": "execute_result",
          "data": {
            "text/html": [
              "<div>\n",
              "<style scoped>\n",
              "    .dataframe tbody tr th:only-of-type {\n",
              "        vertical-align: middle;\n",
              "    }\n",
              "\n",
              "    .dataframe tbody tr th {\n",
              "        vertical-align: top;\n",
              "    }\n",
              "\n",
              "    .dataframe thead th {\n",
              "        text-align: right;\n",
              "    }\n",
              "</style>\n",
              "<table border=\"1\" class=\"dataframe\">\n",
              "  <thead>\n",
              "    <tr style=\"text-align: right;\">\n",
              "      <th></th>\n",
              "      <th>0</th>\n",
              "    </tr>\n",
              "  </thead>\n",
              "  <tbody>\n",
              "    <tr>\n",
              "      <th>0</th>\n",
              "      <td>0</td>\n",
              "    </tr>\n",
              "    <tr>\n",
              "      <th>1</th>\n",
              "      <td>0</td>\n",
              "    </tr>\n",
              "    <tr>\n",
              "      <th>2</th>\n",
              "      <td>0</td>\n",
              "    </tr>\n",
              "    <tr>\n",
              "      <th>3</th>\n",
              "      <td>0</td>\n",
              "    </tr>\n",
              "  </tbody>\n",
              "</table>\n",
              "</div>"
            ],
            "text/plain": [
              "   0\n",
              "0  0\n",
              "1  0\n",
              "2  0\n",
              "3  0"
            ]
          },
          "metadata": {},
          "execution_count": 14
        }
      ]
    },
    {
      "cell_type": "code",
      "metadata": {
        "colab": {
          "base_uri": "https://localhost:8080/"
        },
        "id": "Cx02vAu8wl_M",
        "outputId": "daf48197-8905-4f7b-bfbe-30d24822025d"
      },
      "source": [
        "# let us check accuracy\n",
        "# import metrics library\n",
        "from sklearn import metrics\n",
        "print(\"accuracy is: \", metrics.accuracy_score(y_test,y_pred1))\n",
        "# import confusion matrix\n",
        "from sklearn.metrics import confusion_matrix\n",
        "print(confusion_matrix(y_test,y_pred1))\n",
        "from sklearn.metrics import f1_score\n",
        "from sklearn.metrics import precision_score\n",
        "from sklearn.metrics import recall_score\n",
        "print(\"f1 score: \", f1_score(y_test,y_pred1,average='weighted'))\n",
        "print(\"precision score: \", precision_score(y_test, y_pred1, average='weighted'))\n",
        "print(\"recall score: \", recall_score(y_test, y_pred1, average='weighted'))"
      ],
      "execution_count": null,
      "outputs": [
        {
          "output_type": "stream",
          "name": "stdout",
          "text": [
            "accuracy is:  0.856912320082508\n",
            "[[264566      0      0      0    325      0      0      0      0      0\n",
            "       0      0      0      0      0]\n",
            " [   243      0      0      0      0      0      0      0      0      0\n",
            "       0      0      0      0      0]\n",
            " [  5489      0      0      0   9498      0      0      0      0      0\n",
            "       0      0      0      0      0]\n",
            " [   449      0      0      0    785      0      0      0      0      0\n",
            "       0      0      0      0      0]\n",
            " [  8828      0      0      0  17926      0      0      0      0      0\n",
            "       0      0      0      0      0]\n",
            " [   690      0      0      0      0      0      0      0      0      0\n",
            "       0      0      0      0      0]\n",
            " [   667      0      0      0      0      0      0      0      0      0\n",
            "       0      0      0      0      0]\n",
            " [   899      0      0      0      0      0      0      0      0      0\n",
            "       0      0      0      0      0]\n",
            " [     0      0      0      0      1      0      0      0      2      0\n",
            "       0      0      0      0      0]\n",
            " [     3      0      0      0      0      0      0      0      0      0\n",
            "       0      0      0      0      0]\n",
            " [ 18350      0      0      0      9      0      0      0      0      0\n",
            "       0      0      0      0      0]\n",
            " [   668      0      0      0      0      0      0      0      0      0\n",
            "       0      0      0      0      0]\n",
            " [   181      0      0      0      1      0      0      0      0      0\n",
            "       0      0      0      0      0]\n",
            " [     1      0      0      0      0      0      0      0      0      0\n",
            "       0      0      0      0      0]\n",
            " [    84      0      0      0      0      0      0      0      0      0\n",
            "       0      0      0      0      0]]\n",
            "f1 score:  0.8037870670556202\n",
            "precision score:  0.7569525971536097\n",
            "recall score:  0.856912320082508\n"
          ]
        }
      ]
    },
    {
      "cell_type": "markdown",
      "metadata": {
        "id": "y4hRfFtHy4g9"
      },
      "source": [
        "#### decision tree"
      ]
    },
    {
      "cell_type": "code",
      "metadata": {
        "colab": {
          "base_uri": "https://localhost:8080/"
        },
        "id": "9US61mFowl62",
        "outputId": "e469fa20-e3a7-4920-ce00-0056b7259501"
      },
      "source": [
        "# let us create and run different models on the dataset\n",
        "# let us use randomforest\n",
        "# import libraries\n",
        "from sklearn import tree\n",
        "clf=tree.DecisionTreeClassifier(criterion=\"gini\")\n",
        "import time\n",
        "stime = time.time()\n",
        "clf.fit(x_train,y_train)\n",
        "print(\"--- %s seconds needed to train ---\" % (time.time() - stime))\n",
        "print(\"training score: \",clf.score(x_train, y_train))\n"
      ],
      "execution_count": null,
      "outputs": [
        {
          "output_type": "stream",
          "name": "stdout",
          "text": [
            "--- 35.99195313453674 seconds needed to train ---\n",
            "training score:  0.999512937777054\n"
          ]
        }
      ]
    },
    {
      "cell_type": "code",
      "metadata": {
        "colab": {
          "base_uri": "https://localhost:8080/",
          "height": 175
        },
        "id": "nU4qiGI4zKjf",
        "outputId": "1b688ad1-6e56-426b-ec0b-517fb69a7158"
      },
      "source": [
        "y_pred2=clf.predict(x_test)\n",
        "y_pred2=pd.DataFrame(y_pred2.reshape(-1,1))\n",
        "y_pred2.head(4)"
      ],
      "execution_count": null,
      "outputs": [
        {
          "output_type": "execute_result",
          "data": {
            "text/html": [
              "<div>\n",
              "<style scoped>\n",
              "    .dataframe tbody tr th:only-of-type {\n",
              "        vertical-align: middle;\n",
              "    }\n",
              "\n",
              "    .dataframe tbody tr th {\n",
              "        vertical-align: top;\n",
              "    }\n",
              "\n",
              "    .dataframe thead th {\n",
              "        text-align: right;\n",
              "    }\n",
              "</style>\n",
              "<table border=\"1\" class=\"dataframe\">\n",
              "  <thead>\n",
              "    <tr style=\"text-align: right;\">\n",
              "      <th></th>\n",
              "      <th>0</th>\n",
              "    </tr>\n",
              "  </thead>\n",
              "  <tbody>\n",
              "    <tr>\n",
              "      <th>0</th>\n",
              "      <td>0</td>\n",
              "    </tr>\n",
              "    <tr>\n",
              "      <th>1</th>\n",
              "      <td>10</td>\n",
              "    </tr>\n",
              "    <tr>\n",
              "      <th>2</th>\n",
              "      <td>0</td>\n",
              "    </tr>\n",
              "    <tr>\n",
              "      <th>3</th>\n",
              "      <td>0</td>\n",
              "    </tr>\n",
              "  </tbody>\n",
              "</table>\n",
              "</div>"
            ],
            "text/plain": [
              "    0\n",
              "0   0\n",
              "1  10\n",
              "2   0\n",
              "3   0"
            ]
          },
          "metadata": {},
          "execution_count": 17
        }
      ]
    },
    {
      "cell_type": "code",
      "metadata": {
        "colab": {
          "base_uri": "https://localhost:8080/"
        },
        "id": "1UmvEgLrwl3c",
        "outputId": "b8d2c852-8228-49ad-889f-6c768f21acd4"
      },
      "source": [
        "# let us check accuracy\n",
        "# import metrics library\n",
        "from sklearn import metrics\n",
        "print(\"accuracy is: \", metrics.accuracy_score(y_test,y_pred2))\n",
        "# import confusion matrix\n",
        "from sklearn.metrics import confusion_matrix\n",
        "print(confusion_matrix(y_test,y_pred2))\n",
        "from sklearn.metrics import f1_score\n",
        "from sklearn.metrics import precision_score\n",
        "from sklearn.metrics import recall_score\n",
        "print(\"f1 score: \", f1_score(y_test,y_pred2,average='weighted'))\n",
        "print(\"precision score: \", precision_score(y_test, y_pred2, average='weighted'))\n",
        "print(\"recall score: \", recall_score(y_test, y_pred2, average='weighted'))"
      ],
      "execution_count": null,
      "outputs": [
        {
          "output_type": "stream",
          "name": "stdout",
          "text": [
            "accuracy is:  0.9980647020460164\n",
            "[[264562     41     15     12     66     38      4     15      1      2\n",
            "     125      4      3      2      1]\n",
            " [    61    182      0      0      0      0      0      0      0      0\n",
            "       0      0      0      0      0]\n",
            " [     7      0  14978      0      2      0      0      0      0      0\n",
            "       0      0      0      0      0]\n",
            " [     4      0      0   1228      2      0      0      0      0      0\n",
            "       0      0      0      0      0]\n",
            " [    57      0      5      2  26681      1      0      0      0      0\n",
            "       7      0      0      0      1]\n",
            " [    24      0      0      0      0    661      5      0      0      0\n",
            "       0      0      0      0      0]\n",
            " [     3      0      0      0      0      6    658      0      0      0\n",
            "       0      0      0      0      0]\n",
            " [     5      0      0      0      0      0      0    894      0      0\n",
            "       0      0      0      0      0]\n",
            " [     0      0      0      0      0      0      0      0      3      0\n",
            "       0      0      0      0      0]\n",
            " [     1      0      0      0      0      0      0      0      0      2\n",
            "       0      0      0      0      0]\n",
            " [     6      0      0      0      6      0      2      0      0      0\n",
            "   18345      0      0      0      0]\n",
            " [     3      0      0      0      0      0      0      0      0      0\n",
            "       0    665      0      0      0]\n",
            " [     6      0      0      0      0      0      1      0      0      0\n",
            "       0      0    126      0     49]\n",
            " [     1      0      0      0      0      0      0      0      0      0\n",
            "       0      0      0      0      0]\n",
            " [     1      0      0      0      0      0      0      0      0      0\n",
            "       0      0     41      0     42]]\n",
            "f1 score:  0.9980645989344324\n",
            "precision score:  0.9980707747847808\n",
            "recall score:  0.9980647020460164\n"
          ]
        }
      ]
    },
    {
      "cell_type": "code",
      "metadata": {
        "id": "jKu4OO2ty8ib"
      },
      "source": [],
      "execution_count": null,
      "outputs": []
    },
    {
      "cell_type": "code",
      "metadata": {
        "id": "G3auCE1jwly2"
      },
      "source": [],
      "execution_count": null,
      "outputs": []
    },
    {
      "cell_type": "code",
      "metadata": {
        "id": "LkvBSdpZwlu1"
      },
      "source": [],
      "execution_count": null,
      "outputs": []
    },
    {
      "cell_type": "code",
      "metadata": {
        "id": "6eBng0BcwlsG"
      },
      "source": [],
      "execution_count": null,
      "outputs": []
    },
    {
      "cell_type": "code",
      "metadata": {
        "id": "NDTUceWIwlpE"
      },
      "source": [],
      "execution_count": null,
      "outputs": []
    }
  ]
}